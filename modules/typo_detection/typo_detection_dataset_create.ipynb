{
 "cells": [
  {
   "cell_type": "code",
   "execution_count": 1,
   "metadata": {},
   "outputs": [],
   "source": [
    "import pickle\n",
    "import random\n",
    "import matplotlib.pyplot as plt\n",
    "from transformers import BertTokenizer\n",
    "from typo_detection_dataset import TypoDataset"
   ]
  },
  {
   "cell_type": "code",
   "execution_count": 2,
   "metadata": {},
   "outputs": [],
   "source": [
    "words = []\n",
    "labels = []\n",
    "sources = ['amazon_medium', 'imdb_medium']\n",
    "for source in sources:\n",
    "    words.extend(pickle.load(open(f\"../../data/files_pickle/words_{source}.pickle\", \"rb\")))\n",
    "    labels.extend(pickle.load(open(f\"../../data/files_pickle/labels_{source}.pickle\", \"rb\")))"
   ]
  },
  {
   "cell_type": "code",
   "execution_count": 3,
   "metadata": {},
   "outputs": [
    {
     "name": "stdout",
     "output_type": "stream",
     "text": [
      "Number of sentences in dataset: 281549\n"
     ]
    }
   ],
   "source": [
    "data = list(zip(words, labels))\n",
    "random.shuffle(data)\n",
    "words, labels = zip(*data)\n",
    "print(f'Number of sentences in dataset: {len(words)}')"
   ]
  },
  {
   "cell_type": "code",
   "execution_count": 4,
   "metadata": {
    "scrolled": false
   },
   "outputs": [
    {
     "name": "stdout",
     "output_type": "stream",
     "text": [
      "these                          0\n",
      "are                            0\n",
      "mye                            1\n",
      "faborite                       1\n",
      "flavortd                       1\n",
      "almolds                        1\n",
      "intense                        0\n",
      "flavor                         0\n",
      "i                              0\n",
      "cadnt                          1\n",
      "get                            0\n",
      "senough                        1\n",
      "liem                           1\n",
      "hard                           0\n",
      "to                             0\n",
      "find                           0\n",
      "in                             0\n",
      "the                            0\n",
      "stores                         0\n",
      "tiough                         1\n",
      "soretimes                      1\n"
     ]
    }
   ],
   "source": [
    "random_idx = random.randint(0, len(words))\n",
    "random_idx = 22\n",
    "random_words = words[random_idx]\n",
    "random_labels = labels[random_idx]\n",
    "for word, label in zip(random_words, random_labels):\n",
    "    print(\"%-30s %-1s\" % (word, label))"
   ]
  },
  {
   "cell_type": "code",
   "execution_count": 12,
   "metadata": {},
   "outputs": [
    {
     "data": {
      "text/plain": [
       "['Solarize_Light2',\n",
       " '_classic_test_patch',\n",
       " 'bmh',\n",
       " 'classic',\n",
       " 'dark_background',\n",
       " 'fast',\n",
       " 'fivethirtyeight',\n",
       " 'ggplot',\n",
       " 'grayscale',\n",
       " 'seaborn',\n",
       " 'seaborn-bright',\n",
       " 'seaborn-colorblind',\n",
       " 'seaborn-dark',\n",
       " 'seaborn-dark-palette',\n",
       " 'seaborn-darkgrid',\n",
       " 'seaborn-deep',\n",
       " 'seaborn-muted',\n",
       " 'seaborn-notebook',\n",
       " 'seaborn-paper',\n",
       " 'seaborn-pastel',\n",
       " 'seaborn-poster',\n",
       " 'seaborn-talk',\n",
       " 'seaborn-ticks',\n",
       " 'seaborn-white',\n",
       " 'seaborn-whitegrid',\n",
       " 'tableau-colorblind10']"
      ]
     },
     "execution_count": 12,
     "metadata": {},
     "output_type": "execute_result"
    }
   ],
   "source": [
    "plt.style.available"
   ]
  },
  {
   "cell_type": "code",
   "execution_count": 20,
   "metadata": {
    "lines_to_next_cell": 2
   },
   "outputs": [
    {
     "data": {
      "image/png": "[encoded data removed]",
      "text/plain": [
       "<Figure size 720x432 with 1 Axes>"
      ]
     },
     "metadata": {},
     "output_type": "display_data"
    }
   ],
   "source": [
    "labels_lens = [len(l) for l in labels]\n",
    "\n",
    "plt.style.use('fast')\n",
    "plt.figure(figsize=(10,6))\n",
    "plt.hist(labels_lens, bins=25, color='orange')\n",
    "plt.xlabel('Number of words in text')\n",
    "plt.ylabel('Number of texts')\n",
    "plt.savefig('Number_of_sentences.jpg')\n",
    "plt.show()"
   ]
  },
  {
   "cell_type": "code",
   "execution_count": 31,
   "metadata": {},
   "outputs": [
    {
     "name": "stdout",
     "output_type": "stream",
     "text": [
      "Percentage of misspelled words in dataset: 0.3266\n"
     ]
    }
   ],
   "source": [
    "labels_one = sum([sum(l) for l in labels])\n",
    "labels_all = sum([len(l) for l in labels]) \n",
    "\n",
    "print(f'Percentage of misspelled words in dataset: {round(labels_one / labels_all, 4)}')"
   ]
  },
  {
   "cell_type": "code",
   "execution_count": 64,
   "metadata": {},
   "outputs": [
    {
     "name": "stdout",
     "output_type": "stream",
     "text": [
      "WORD                           TOKENIZER ID                   LABEL\n",
      "--------------------------------------------------------------------------------\n",
      "[CLS]                          101                            0\n",
      "very                           2200                           0\n",
      "good                           2204                           0\n",
      "pro                            4013                           1\n",
      "##du                           8566                           1\n",
      "##te                           2618                           1\n",
      "still                          2145                           0\n",
      "gr                             24665                          1\n",
      "##wing                         9328                           1\n",
      "for                            2005                           0\n",
      "me                             2033                           0\n",
      "i                              1045                           0\n",
      "pu                             16405                          1\n",
      "##rc                           11890                          1\n",
      "##se                           3366                           1\n",
      "over                           2058                           0\n",
      "a                              1037                           0\n",
      "year                           2095                           0\n",
      "ago                            3283                           0\n",
      "and                            1998                           0\n",
      "will                           2097                           0\n",
      "pu                             16405                          1\n",
      "##rh                           25032                          1\n",
      "##ase                          11022                          1\n",
      "mo                             9587                           1\n",
      "##kr                           21638                          1\n",
      "##r                            2099                           1\n",
      "in                             1999                           0\n",
      "the                            1996                           0\n",
      "near                           2379                           0\n",
      "future                         2925                           0\n",
      "[SEP]                          102                            0\n"
     ]
    }
   ],
   "source": [
    "ds = TypoDataset()\n",
    "tokenized_words, tokenized_labels = ds._tokenize_and_preserve_labels(random_words, random_labels)\n",
    "tokenized_ids = ds.tokenizer.convert_tokens_to_ids(tokenized_words)\n",
    "\n",
    "print(\"%-30s %-30s %-1s\" % (\"WORD\", \"TOKENIZER ID\", \"LABEL\"))\n",
    "print('-' * 80)\n",
    "for word, idx, label in zip(tokenized_words, tokenized_ids, tokenized_labels):\n",
    "    print(\"%-30s %-30s %-1s\" % (word, idx, label))"
   ]
  },
  {
   "cell_type": "code",
   "execution_count": null,
   "metadata": {},
   "outputs": [],
   "source": [
    "zip_list = list(zip(words, labels))\n",
    "random.shuffle(zip_list)\n",
    "words, labels = zip(*zip_list)"
   ]
  },
  {
   "cell_type": "code",
   "execution_count": 65,
   "metadata": {},
   "outputs": [],
   "source": [
    "train_part = 20000\n",
    "val_part = 4000\n",
    "modes = ['train', 'val']\n",
    "words_m = [words[:train_part], words[train_part:(train_part + val_part)]]\n",
    "labels_m = [labels[:train_part], labels[train_part:(train_part + val_part)]]"
   ]
  },
  {
   "cell_type": "code",
   "execution_count": 66,
   "metadata": {},
   "outputs": [],
   "source": [
    "for mode, word, label in zip(modes, words_m, labels_m):\n",
    "    ds = TypoDataset(mode=mode)\n",
    "    inp, tg, msk = ds.prepare_dataset(word, label, out_path='../../data/typo_ds/amazon_imdb_big_20k_4k')"
   ]
  },
  {
   "cell_type": "code",
   "execution_count": 67,
   "metadata": {},
   "outputs": [
    {
     "name": "stdout",
     "output_type": "stream",
     "text": [
      "WORD_ID    WORD_LABEL WORD_MASK \n",
      "101        0          1         \n",
      "2026       0          1         \n",
      "1017       0          1         \n",
      "2095       0          1         \n",
      "2214       0          1         \n",
      "8840       1          1         \n",
      "21030      1          1         \n",
      "2015       1          1         \n",
      "2122       0          1         \n",
      "1997       1          1         \n",
      "2099       1          1         \n",
      "6265       0          1         \n",
      "11937      1          1         \n",
      "14844      1          1         \n",
      "2063       1          1         \n",
      "1037       0          1         \n",
      "24209      1          1         \n",
      "4886       1          1         \n",
      "16344      1          1         \n",
      "4031       0          1         \n",
      "10424      1          1         \n",
      "29147      1          1         \n",
      "16216      0          1         \n",
      "20473      0          1         \n",
      "2008       0          1         \n",
      "2024       0          1         \n",
      "19413      1          1         \n",
      "13102      1          1         \n",
      "2135       1          1         \n",
      "4810       0          1         \n",
      "24665      1          1         \n",
      "5243       1          1         \n",
      "2546       1          1         \n",
      "7597       0          1         \n",
      "2012       0          1         \n",
      "9733       0          1         \n",
      "2205       0          1         \n",
      "102        0          1         \n",
      "0          0          0         \n",
      "0          0          0         \n",
      "0          0          0         \n",
      "0          0          0         \n",
      "0          0          0         \n",
      "0          0          0         \n",
      "0          0          0         \n",
      "0          0          0         \n",
      "0          0          0         \n",
      "0          0          0         \n",
      "0          0          0         \n",
      "0          0          0         \n",
      "0          0          0         \n",
      "0          0          0         \n",
      "0          0          0         \n",
      "0          0          0         \n",
      "0          0          0         \n",
      "0          0          0         \n",
      "0          0          0         \n",
      "0          0          0         \n",
      "0          0          0         \n",
      "0          0          0         \n",
      "0          0          0         \n",
      "0          0          0         \n",
      "0          0          0         \n",
      "0          0          0         \n",
      "0          0          0         \n",
      "0          0          0         \n",
      "0          0          0         \n",
      "0          0          0         \n",
      "0          0          0         \n",
      "0          0          0         \n",
      "0          0          0         \n",
      "0          0          0         \n",
      "0          0          0         \n",
      "0          0          0         \n",
      "0          0          0         \n",
      "0          0          0         \n",
      "0          0          0         \n",
      "0          0          0         \n",
      "0          0          0         \n",
      "0          0          0         \n",
      "0          0          0         \n",
      "0          0          0         \n",
      "0          0          0         \n",
      "0          0          0         \n",
      "0          0          0         \n",
      "0          0          0         \n",
      "0          0          0         \n",
      "0          0          0         \n",
      "0          0          0         \n",
      "0          0          0         \n",
      "0          0          0         \n",
      "0          0          0         \n",
      "0          0          0         \n",
      "0          0          0         \n",
      "0          0          0         \n",
      "0          0          0         \n",
      "0          0          0         \n",
      "0          0          0         \n",
      "0          0          0         \n",
      "0          0          0         \n"
     ]
    }
   ],
   "source": [
    "print(\"%-10s %-10s %-10s\" % (\"WORD_ID\", \"WORD_LABEL\", \"WORD_MASK\"))\n",
    "for inp_t, tg_t, msk_t in zip(inp[22], tg[22], msk[22]):\n",
    "    print(\"%-10s %-10s %-10s\" % (inp_t.item(), tg_t.item(), msk_t.item()))"
   ]
  },
  {
   "cell_type": "code",
   "execution_count": null,
   "metadata": {},
   "outputs": [],
   "source": []
  }
 ],
 "metadata": {
  "jupytext": {
   "cell_metadata_filter": "-all",
   "formats": "py:light,ipynb",
   "notebook_metadata_filter": "-all"
  },
  "kernelspec": {
   "display_name": "Python 3",
   "language": "python",
   "name": "python3"
  },
  "language_info": {
   "codemirror_mode": {
    "name": "ipython",
    "version": 3
   },
   "file_extension": ".py",
   "mimetype": "text/x-python",
   "name": "python",
   "nbconvert_exporter": "python",
   "pygments_lexer": "ipython3",
   "version": "3.7.7"
  }
 },
 "nbformat": 4,
 "nbformat_minor": 4
}
