{
 "cells": [
  {
   "cell_type": "code",
   "execution_count": 3,
   "metadata": {},
   "outputs": [],
   "source": [
    "import pickle\n",
    "import random\n",
    "import matplotlib.pyplot as plt\n",
    "from transformers import BertTokenizer\n",
    "from typo_detection_dataset import TypoDataset"
   ]
  },
  {
   "cell_type": "code",
   "execution_count": 25,
   "metadata": {},
   "outputs": [],
   "source": [
    "words = []\n",
    "labels = []\n",
    "#sources = ['amazon_medium', 'imdb_medium', 'big_0']\n",
    "sources = ['big_0']\n",
    "for source in sources:\n",
    "    words.extend(pickle.load(open(f\"../../data/files_pickle/words_{source}.pickle\", \"rb\")))\n",
    "    labels.extend(pickle.load(open(f\"../../data/files_pickle/labels_{source}.pickle\", \"rb\")))"
   ]
  },
  {
   "cell_type": "code",
   "execution_count": 6,
   "metadata": {},
   "outputs": [
    {
     "name": "stdout",
     "output_type": "stream",
     "text": [
      "Number of sentences in dataset: 283549\n"
     ]
    }
   ],
   "source": [
    "data = list(zip(words, labels))\n",
    "random.shuffle(data)\n",
    "words, labels = zip(*data)\n",
    "print(f'Number of sentences in dataset: {len(words)}')"
   ]
  },
  {
   "cell_type": "code",
   "execution_count": 32,
   "metadata": {
    "scrolled": false
   },
   "outputs": [
    {
     "name": "stdout",
     "output_type": "stream",
     "text": [
      "i                              0\n",
      "hzvs                           1\n",
      "ak                             1\n",
      "inspector                      0\n",
      "and                            0\n",
      "two                            0\n",
      "officers                       0\n",
      "waiting                        0\n",
      "aat                            1\n",
      "the                            0\n",
      "front                          0\n",
      "door                           0\n"
     ]
    }
   ],
   "source": [
    "random_idx = random.randint(0, len(words))\n",
    "random_words = words[random_idx]\n",
    "random_labels = labels[random_idx]\n",
    "for word, label in zip(random_words, random_labels):\n",
    "    print(\"%-30s %-1s\" % (word, label))"
   ]
  },
  {
   "cell_type": "code",
   "execution_count": 24,
   "metadata": {},
   "outputs": [
    {
     "data": {
      "image/png": "[encoded data removed]",
      "text/plain": [
       "<Figure size 720x432 with 1 Axes>"
      ]
     },
     "metadata": {
      "needs_background": "light"
     },
     "output_type": "display_data"
    }
   ],
   "source": [
    "labels_lens = [len(l) for l in labels]\n",
    "\n",
    "plt.figure(figsize=(10,6))\n",
    "plt.hist(labels_lens, bins=25)\n",
    "plt.xlabel('Number of words in text')\n",
    "plt.ylabel('Number of texts')\n",
    "plt.savefig('Number_of_sentences.jpg')\n",
    "plt.show()\n"
   ]
  },
  {
   "cell_type": "code",
   "execution_count": 31,
   "metadata": {},
   "outputs": [
    {
     "name": "stdout",
     "output_type": "stream",
     "text": [
      "Percentage of misspelled words in dataset: 0.3266\n"
     ]
    }
   ],
   "source": [
    "labels_one = sum([sum(l) for l in labels])\n",
    "labels_all = sum([len(l) for l in labels]) \n",
    "\n",
    "print(f'Percentage of misspelled words in dataset: {round(labels_one / labels_all, 4)}')"
   ]
  },
  {
   "cell_type": "code",
   "execution_count": 40,
   "metadata": {},
   "outputs": [
    {
     "name": "stdout",
     "output_type": "stream",
     "text": [
      "WORD                           TOKENIZER ID                   LABEL\n",
      "--------------------------------------------------------------------------------\n",
      "[CLS]                          101                            0\n",
      "these                          2122                           0\n",
      "gave                           2435                           0\n",
      "mm                             3461                           1\n",
      "##e                            2063                           1\n",
      "a                              1037                           0\n",
      "eh                             15501                          1\n",
      "##ada                          8447                           1\n",
      "##che                          5403                           1\n",
      "too                            2205                           0\n",
      "mc                             11338                          1\n",
      "##uh                           27225                          1\n",
      "sugar                          5699                           0\n",
      "and                            1998                           0\n",
      "other                          2060                           1\n",
      "##a                            2050                           1\n",
      "ing                            13749                          1\n",
      "##red                          5596                           1\n",
      "##ien                          9013                           1\n",
      "##ds                           5104                           1\n",
      "sh                             14021                          1\n",
      "##t                            2102                           1\n",
      "di                             4487                           1\n",
      "##z                            2480                           1\n",
      "##nt                           3372                           1\n",
      "sit                            4133                           0\n",
      "we                             2057                           1\n",
      "##l                            2140                           1\n",
      "i                              1045                           0\n",
      "ao                             20118                          1\n",
      "##uld                          21285                          1\n",
      "not                            2025                           0\n",
      "r                              1054                           1\n",
      "##pc                           15042                          1\n",
      "##om                           5358                           1\n",
      "##men                          3549                           1\n",
      "##d                            2094                           1\n",
      "to                             2000                           0\n",
      "some                           2070                           1\n",
      "##ona                          7856                           1\n",
      "try                            3046                           1\n",
      "##in                           2378                           1\n",
      "to                             2000                           0\n",
      "aa                             9779                           1\n",
      "##t                            2102                           1\n",
      "health                         2740                           1\n",
      "##ei                           7416                           1\n",
      "##r                            2099                           1\n",
      "[SEP]                          102                            0\n"
     ]
    }
   ],
   "source": [
    "ds = TypoDataset()\n",
    "tokenized_words, tokenized_labels = ds._tokenize_and_preserve_labels(random_words, random_labels)\n",
    "tokenized_ids = ds.tokenizer.convert_tokens_to_ids(tokenized_words)\n",
    "\n",
    "print(\"%-30s %-30s %-1s\" % (\"WORD\", \"TOKENIZER ID\", \"LABEL\"))\n",
    "print('-' * 80)\n",
    "for word, idx, label in zip(tokenized_words, tokenized_ids, tokenized_labels):\n",
    "    print(\"%-30s %-30s %-1s\" % (word, idx, label))"
   ]
  },
  {
   "cell_type": "code",
   "execution_count": 43,
   "metadata": {},
   "outputs": [],
   "source": [
    "train_part = 20000\n",
    "val_part = 4000\n",
    "modes = ['train', 'val']\n",
    "words_m = [words[:train_part], words[train_part:(train_part + val_part)]]\n",
    "labels_m = [labels[:train_part], labels[train_part:(train_part + val_part)]]"
   ]
  },
  {
   "cell_type": "code",
   "execution_count": 44,
   "metadata": {},
   "outputs": [],
   "source": [
    "for mode, word, label in zip(modes, words_m, labels_m):\n",
    "    ds = TypoDataset(mode=mode)\n",
    "    inp, tg, msk = ds.prepare_dataset(word, label, out_path='../../data/typo_ds/amazon_imdb_big_20k_4k')"
   ]
  },
  {
   "cell_type": "code",
   "execution_count": 56,
   "metadata": {},
   "outputs": [
    {
     "name": "stdout",
     "output_type": "stream",
     "text": [
      "WORD_ID    WORD_LABEL WORD_MASK \n",
      "101        0          1         \n",
      "1037       0          1         \n",
      "1060       1          1         \n",
      "7140       1          1         \n",
      "10814      1          1         \n",
      "1997       0          1         \n",
      "1056       1          1         \n",
      "28397      1          1         \n",
      "2058       0          1         \n",
      "1996       0          1         \n",
      "2279       0          1         \n",
      "2261       0          1         \n",
      "2420       0          1         \n",
      "1998       0          1         \n",
      "2169       0          1         \n",
      "5495       1          1         \n",
      "2213       1          1         \n",
      "1045       0          1         \n",
      "2288       0          1         \n",
      "22794      1          1         \n",
      "4017       1          1         \n",
      "2839       1          1         \n",
      "23738      1          1         \n",
      "2594       1          1         \n",
      "2061       1          1         \n",
      "29418      1          1         \n",
      "7507       1          1         \n",
      "5403       1          1         \n",
      "8823       1          1         \n",
      "2000       0          1         \n",
      "1051       1          1         \n",
      "14122      1          1         \n",
      "1037       0          1         \n",
      "11265      1          1         \n",
      "13512      1          1         \n",
      "3512       1          1         \n",
      "2128       1          1         \n",
      "6777       1          1         \n",
      "2666       1          1         \n",
      "2860       1          1         \n",
      "2138       0          1         \n",
      "10047      0          1         \n",
      "2061       0          1         \n",
      "16408      0          1         \n",
      "1997       0          1         \n",
      "2364       1          1         \n",
      "20528      1          1         \n",
      "2213       1          1         \n",
      "4073       0          1         \n",
      "2000       0          1         \n",
      "2191       0          1         \n",
      "1053       1          1         \n",
      "1042       1          1         \n",
      "20620      1          1         \n",
      "2800       0          1         \n",
      "2021       0          1         \n",
      "23746      1          1         \n",
      "5369       1          1         \n",
      "5621       0          1         \n",
      "19739      1          1         \n",
      "29005      1          1         \n",
      "2046       0          1         \n",
      "3917       0          1         \n",
      "4630       0          1         \n",
      "1998       0          1         \n",
      "18020      0          1         \n",
      "2278       0          1         \n",
      "13675      1          1         \n",
      "8649       1          1         \n",
      "26494      1          1         \n",
      "1049       1          1         \n",
      "6806       1          1         \n",
      "21285      1          1         \n",
      "3422       0          1         \n",
      "2037       0          1         \n",
      "9597       0          1         \n",
      "2000       0          1         \n",
      "2023       0          1         \n",
      "20996      1          1         \n",
      "7716       1          1         \n",
      "14194      1          1         \n",
      "2102       1          1         \n",
      "5362       0          1         \n",
      "102        0          1         \n",
      "0          0          0         \n",
      "0          0          0         \n",
      "0          0          0         \n",
      "0          0          0         \n",
      "0          0          0         \n",
      "0          0          0         \n",
      "0          0          0         \n",
      "0          0          0         \n",
      "0          0          0         \n",
      "0          0          0         \n",
      "0          0          0         \n",
      "0          0          0         \n",
      "0          0          0         \n",
      "0          0          0         \n",
      "0          0          0         \n",
      "0          0          0         \n"
     ]
    }
   ],
   "source": [
    "print(\"%-10s %-10s %-10s\" % (\"WORD_ID\", \"WORD_LABEL\", \"WORD_MASK\"))\n",
    "for inp_t, tg_t, msk_t in zip(inp[0], tg[0], msk[0]):\n",
    "    print(\"%-10s %-10s %-10s\" % (inp_t.item(), tg_t.item(), msk_t.item()))"
   ]
  },
  {
   "cell_type": "code",
   "execution_count": null,
   "metadata": {},
   "outputs": [],
   "source": []
  }
 ],
 "metadata": {
  "jupytext": {
   "cell_metadata_filter": "-all",
   "formats": "py:light,ipynb",
   "notebook_metadata_filter": "-all"
  },
  "kernelspec": {
   "display_name": "Python 3",
   "language": "python",
   "name": "python3"
  },
  "language_info": {
   "codemirror_mode": {
    "name": "ipython",
    "version": 3
   },
   "file_extension": ".py",
   "mimetype": "text/x-python",
   "name": "python",
   "nbconvert_exporter": "python",
   "pygments_lexer": "ipython3",
   "version": "3.7.7"
  }
 },
 "nbformat": 4,
 "nbformat_minor": 4
}
